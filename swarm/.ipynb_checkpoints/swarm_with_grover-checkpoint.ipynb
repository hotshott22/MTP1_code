{
  "cells": [
    {
      "cell_type": "code",
      "source": [
        "!pip install qiskit"
      ],
      "metadata": {
        "colab": {
          "base_uri": "https://localhost:8080/"
        },
        "id": "tJ-NAtgoB-b7",
        "outputId": "c33579a4-c065-4511-f88c-2b77e9870944"
      },
      "execution_count": 1,
      "outputs": [
        {
          "output_type": "stream",
          "name": "stdout",
          "text": [
            "Collecting qiskit\n",
            "  Downloading qiskit-2.1.2-cp39-abi3-manylinux_2_17_x86_64.manylinux2014_x86_64.whl.metadata (12 kB)\n",
            "Collecting rustworkx>=0.15.0 (from qiskit)\n",
            "  Downloading rustworkx-0.17.1-cp39-abi3-manylinux_2_17_x86_64.manylinux2014_x86_64.whl.metadata (10 kB)\n",
            "Requirement already satisfied: numpy<3,>=1.17 in /usr/local/lib/python3.12/dist-packages (from qiskit) (2.0.2)\n",
            "Requirement already satisfied: scipy>=1.5 in /usr/local/lib/python3.12/dist-packages (from qiskit) (1.16.1)\n",
            "Requirement already satisfied: dill>=0.3 in /usr/local/lib/python3.12/dist-packages (from qiskit) (0.3.8)\n",
            "Collecting stevedore>=3.0.0 (from qiskit)\n",
            "  Downloading stevedore-5.5.0-py3-none-any.whl.metadata (2.2 kB)\n",
            "Requirement already satisfied: typing-extensions in /usr/local/lib/python3.12/dist-packages (from qiskit) (4.15.0)\n",
            "Downloading qiskit-2.1.2-cp39-abi3-manylinux_2_17_x86_64.manylinux2014_x86_64.whl (7.4 MB)\n",
            "\u001b[2K   \u001b[90m━━━━━━━━━━━━━━━━━━━━━━━━━━━━━━━━━━━━━━━━\u001b[0m \u001b[32m7.4/7.4 MB\u001b[0m \u001b[31m48.9 MB/s\u001b[0m eta \u001b[36m0:00:00\u001b[0m\n",
            "\u001b[?25hDownloading rustworkx-0.17.1-cp39-abi3-manylinux_2_17_x86_64.manylinux2014_x86_64.whl (2.2 MB)\n",
            "\u001b[2K   \u001b[90m━━━━━━━━━━━━━━━━━━━━━━━━━━━━━━━━━━━━━━━━\u001b[0m \u001b[32m2.2/2.2 MB\u001b[0m \u001b[31m50.2 MB/s\u001b[0m eta \u001b[36m0:00:00\u001b[0m\n",
            "\u001b[?25hDownloading stevedore-5.5.0-py3-none-any.whl (49 kB)\n",
            "\u001b[2K   \u001b[90m━━━━━━━━━━━━━━━━━━━━━━━━━━━━━━━━━━━━━━━━\u001b[0m \u001b[32m49.5/49.5 kB\u001b[0m \u001b[31m2.9 MB/s\u001b[0m eta \u001b[36m0:00:00\u001b[0m\n",
            "\u001b[?25hInstalling collected packages: stevedore, rustworkx, qiskit\n",
            "Successfully installed qiskit-2.1.2 rustworkx-0.17.1 stevedore-5.5.0\n"
          ]
        }
      ]
    },
    {
      "cell_type": "code",
      "source": [
        "!pip install qiskit-aer"
      ],
      "metadata": {
        "colab": {
          "base_uri": "https://localhost:8080/"
        },
        "id": "tQCOQbhRCEFW",
        "outputId": "2e0e9767-a9cb-4a11-e1c9-48fc566a9940"
      },
      "execution_count": 2,
      "outputs": [
        {
          "output_type": "stream",
          "name": "stdout",
          "text": [
            "Collecting qiskit-aer\n",
            "  Downloading qiskit_aer-0.17.1-cp312-cp312-manylinux_2_17_x86_64.manylinux2014_x86_64.whl.metadata (8.3 kB)\n",
            "Requirement already satisfied: qiskit>=1.1.0 in /usr/local/lib/python3.12/dist-packages (from qiskit-aer) (2.1.2)\n",
            "Requirement already satisfied: numpy>=1.16.3 in /usr/local/lib/python3.12/dist-packages (from qiskit-aer) (2.0.2)\n",
            "Requirement already satisfied: scipy>=1.0 in /usr/local/lib/python3.12/dist-packages (from qiskit-aer) (1.16.1)\n",
            "Requirement already satisfied: psutil>=5 in /usr/local/lib/python3.12/dist-packages (from qiskit-aer) (5.9.5)\n",
            "Requirement already satisfied: python-dateutil>=2.8.0 in /usr/local/lib/python3.12/dist-packages (from qiskit-aer) (2.9.0.post0)\n",
            "Requirement already satisfied: six>=1.5 in /usr/local/lib/python3.12/dist-packages (from python-dateutil>=2.8.0->qiskit-aer) (1.17.0)\n",
            "Requirement already satisfied: rustworkx>=0.15.0 in /usr/local/lib/python3.12/dist-packages (from qiskit>=1.1.0->qiskit-aer) (0.17.1)\n",
            "Requirement already satisfied: dill>=0.3 in /usr/local/lib/python3.12/dist-packages (from qiskit>=1.1.0->qiskit-aer) (0.3.8)\n",
            "Requirement already satisfied: stevedore>=3.0.0 in /usr/local/lib/python3.12/dist-packages (from qiskit>=1.1.0->qiskit-aer) (5.5.0)\n",
            "Requirement already satisfied: typing-extensions in /usr/local/lib/python3.12/dist-packages (from qiskit>=1.1.0->qiskit-aer) (4.15.0)\n",
            "Downloading qiskit_aer-0.17.1-cp312-cp312-manylinux_2_17_x86_64.manylinux2014_x86_64.whl (12.4 MB)\n",
            "\u001b[2K   \u001b[90m━━━━━━━━━━━━━━━━━━━━━━━━━━━━━━━━━━━━━━━━\u001b[0m \u001b[32m12.4/12.4 MB\u001b[0m \u001b[31m62.7 MB/s\u001b[0m eta \u001b[36m0:00:00\u001b[0m\n",
            "\u001b[?25hInstalling collected packages: qiskit-aer\n",
            "Successfully installed qiskit-aer-0.17.1\n"
          ]
        }
      ]
    },
    {
      "cell_type": "code",
      "execution_count": 77,
      "metadata": {
        "id": "sor9_tzSB75d"
      },
      "outputs": [],
      "source": [
        "# qiskit tools for quantum circuit construction, visualization and simulation\n",
        "from qiskit import QuantumRegister, ClassicalRegister, QuantumCircuit, transpile\n",
        "from qiskit_aer import Aer # Import Aer from qiskit_aer\n",
        "from qiskit.visualization import plot_histogram\n",
        "import matplotlib.pyplot as plt\n",
        "\n",
        "# utilities\n",
        "from operator import attrgetter, itemgetter\n",
        "from scipy.spatial.distance import cityblock\n",
        "from heapq import nlargest\n",
        "import numpy as np"
      ]
    },
    {
      "cell_type": "code",
      "execution_count": 78,
      "metadata": {
        "id": "_UyPPlHtB75f"
      },
      "outputs": [],
      "source": [
        "class Target:\n",
        "    def __init__(self, name, x, y): # no indetermination in the target's position\n",
        "        self.name = name\n",
        "        self.x = x\n",
        "        self.y = y"
      ]
    },
    {
      "cell_type": "code",
      "execution_count": 79,
      "metadata": {
        "id": "VBo1U_m8B75f"
      },
      "outputs": [],
      "source": [
        "T = Target(\"T\", 0.875, 0.125) # deep in the ocean"
      ]
    },
    {
      "cell_type": "code",
      "execution_count": 80,
      "metadata": {
        "id": "AMCEWtJcB75g"
      },
      "outputs": [],
      "source": [
        "def reward(T, betax, betay):\n",
        "    return 1 - (((T.x - betax)**2 + (T.y - betay)**2)**0.5)/np.sqrt(2) # distance is normalized on sqrt(2)"
      ]
    },
    {
      "cell_type": "code",
      "execution_count": 81,
      "metadata": {
        "id": "ctGS1edZB75g"
      },
      "outputs": [],
      "source": [
        "class Obstacle:\n",
        "    _registry = []\n",
        "\n",
        "    def __init__(self, name, x, y):\n",
        "        self._registry.append(self)\n",
        "        self.name = name\n",
        "        self.x = x\n",
        "        self.y = y"
      ]
    },
    {
      "cell_type": "code",
      "execution_count": 82,
      "metadata": {
        "id": "umE8aakMB75h"
      },
      "outputs": [],
      "source": [
        "O = Obstacle(\"Oo\", 0.125, 0.125)"
      ]
    },
    {
      "cell_type": "code",
      "execution_count": 83,
      "metadata": {
        "id": "9rZrrMXqB75h"
      },
      "outputs": [],
      "source": [
        "# utility function that returns the complementary amplitude\n",
        "# of ampl, evaluated as sqrt(1 - ||ampl||^2)\n",
        "#\n",
        "def c_ampl(ampl):\n",
        "    return np.sqrt(1 - ampl**2)"
      ]
    },
    {
      "cell_type": "code",
      "execution_count": 84,
      "metadata": {
        "id": "unjPgRbbB75h"
      },
      "outputs": [],
      "source": [
        "class Robotx(object):\n",
        "    _registry = []\n",
        "\n",
        "    def __init__(self, name, alphax, alphay):\n",
        "        self._registry.append(self)\n",
        "        self.name = name\n",
        "        self.alphax = alphax\n",
        "        self.betax = c_ampl(alphax)\n",
        "        self.alphay = alphay\n",
        "        self.betay = c_ampl(alphay)\n",
        "        self.delta = reward(T, self.betax, self.betay)\n",
        "        self.gamma = c_ampl(self.delta)"
      ]
    },
    {
      "cell_type": "code",
      "execution_count": 85,
      "metadata": {
        "id": "_Xx-d2zPB75h"
      },
      "outputs": [],
      "source": [
        "# arbitrary number of robots that, at the start, are uniformly distributed\n",
        "# in the square of side length radius*2, centered in starting_cluster_coord\n",
        "#\n",
        "num_of_robots = 10\n",
        "\n",
        "# must be lower than 0.25, otherwise, the robots would start on different cells\n",
        "radius = 0.05\n",
        "\n",
        "# center of the (0,0) cell\n",
        "starting_cluster_coord = (0.125, 0.875)\n",
        "\n",
        "# boundaries to compute the initial random scattering on\n",
        "a_x, a_y = c_ampl(starting_cluster_coord[0]-radius), c_ampl(starting_cluster_coord[0]+radius)\n",
        "b_x, b_y = c_ampl(starting_cluster_coord[1]-radius), c_ampl(starting_cluster_coord[1]+radius)\n",
        "\n",
        "# robots' initialization\n",
        "for i in range(num_of_robots):\n",
        "    Robotx('R'+str(i), np.random.uniform(a_x,a_y), np.random.uniform(b_x,b_y))"
      ]
    },
    {
      "cell_type": "code",
      "execution_count": 86,
      "metadata": {
        "colab": {
          "base_uri": "https://localhost:8080/"
        },
        "id": "vWr_GAByB75i",
        "outputId": "6a2c11f1-3d89-479f-f104-6403c81229a7"
      },
      "outputs": [
        {
          "output_type": "stream",
          "name": "stdout",
          "text": [
            "R0 0.09 0.88 0.97 0.23\n",
            "R1 0.12 0.85 0.97 0.26\n",
            "R2 0.14 0.90 0.97 0.24\n",
            "R3 0.12 0.92 0.97 0.22\n",
            "R4 0.13 0.88 0.97 0.25\n",
            "R5 0.08 0.85 0.97 0.24\n",
            "R6 0.17 0.88 0.96 0.27\n",
            "R7 0.14 0.89 0.97 0.25\n",
            "R8 0.16 0.88 0.96 0.26\n",
            "R9 0.14 0.86 0.97 0.26\n"
          ]
        }
      ],
      "source": [
        "# note: values are stored with full precision, rounding is done only on visualization (with :.2f)\n",
        "for k in Robotx._registry:\n",
        "    print(f\"{k.name} {k.betax:.2f} {k.betay:.2f} {k.gamma:.2f} {k.delta:.2f}\")"
      ]
    },
    {
      "cell_type": "code",
      "execution_count": 87,
      "metadata": {
        "colab": {
          "base_uri": "https://localhost:8080/"
        },
        "id": "HquE-vzCB75i",
        "outputId": "832a0799-fffc-4330-d1a3-04060d7e3dd1"
      },
      "outputs": [
        {
          "output_type": "stream",
          "name": "stdout",
          "text": [
            "Average reward: 0.24803182748476532\n"
          ]
        }
      ],
      "source": [
        "def calculate_avg_reward():\n",
        "    rewards = [robot.delta for robot in Robotx._registry]\n",
        "    return np.mean(rewards)\n",
        "\n",
        "print(f\"Average reward: {calculate_avg_reward()}\")"
      ]
    },
    {
      "cell_type": "code",
      "execution_count": 88,
      "metadata": {
        "id": "haTC53PsB75i"
      },
      "outputs": [],
      "source": [
        "# this utility function generates the visualization of the environment with each of the entitites;\n",
        "# the map is maked with a squared lattice, so as to outline the micro-cell subdivision and the robots\n",
        "# obstacles, and target are color coded in the followig way:\n",
        "#   robots: green circle;\n",
        "#   obstacles: red pentagon;\n",
        "#   target: turquoise star.\n",
        "#\n",
        "def plot_scatterplot(*args):\n",
        "\n",
        "    # to print grid on map\n",
        "    ax = plt.figure().gca()\n",
        "    ax.set_xticks(np.arange(0, 1, 0.25))\n",
        "    ax.set_yticks(np.arange(0, 1, 0.25))\n",
        "    plt.grid()\n",
        "\n",
        "    for i in Robotx._registry:\n",
        "        # color gradient to better visualize the different robots within the map;\n",
        "        # the higher the i-th index of the robot's name, the darker the green gradient.\n",
        "        robot_color = hex(int(\"0x30ca15\", 16) + int(\"0x00bb00\", 16)*int(i.name[1])).replace(\"0x\",\"#\")\n",
        "        plt.scatter(i.betax, i.betay, s = 300, marker = 'o', color = robot_color)\n",
        "\n",
        "    plt.scatter(T.x, T.y, s = 400, marker = '*', color = 'turquoise')\n",
        "\n",
        "    for o in Obstacle._registry:\n",
        "        plt.scatter(o.x, o.y, s = 400, marker = 'p', color = 'red')\n",
        "\n",
        "    plt.axis([0, 1, 0, 1])\n",
        "\n",
        "    if args:\n",
        "        plt.title(args[0])\n",
        "\n",
        "    plt.show()"
      ]
    },
    {
      "cell_type": "code",
      "execution_count": 89,
      "metadata": {
        "colab": {
          "base_uri": "https://localhost:8080/",
          "height": 452
        },
        "id": "rQ0x_MaaB75i",
        "outputId": "be9ddada-1407-4125-d8a0-6149fc256ef6"
      },
      "outputs": [
        {
          "output_type": "display_data",
          "data": {
            "text/plain": [
              "<Figure size 640x480 with 1 Axes>"
            ],
            "image/png": "[encoded data removed]"
          },
          "metadata": {}
        }
      ],
      "source": [
        "plot_scatterplot(\"Initialization\")"
      ]
    },
    {
      "cell_type": "code",
      "execution_count": 90,
      "metadata": {
        "colab": {
          "base_uri": "https://localhost:8080/"
        },
        "id": "FZMGEdvoB75j",
        "outputId": "6b33d49a-c239-4667-897b-bc56e30099bf"
      },
      "outputs": [
        {
          "output_type": "stream",
          "name": "stdout",
          "text": [
            "R0 0.23 achtung!\n",
            "R1 0.26 achtung!\n",
            "R2 0.24 achtung!\n",
            "R3 0.22 achtung!\n",
            "R4 0.25 achtung!\n",
            "R5 0.24 achtung!\n",
            "R6 0.27 achtung!\n",
            "R7 0.25 achtung!\n",
            "R8 0.26 achtung!\n",
            "R9 0.26 achtung!\n"
          ]
        }
      ],
      "source": [
        "for r in Robotx._registry:\n",
        "    if (r.delta < 0.5):\n",
        "        print(f\"{r.name} {r.delta:.2f} achtung!\") # and start from this point to build the reshuffle section"
      ]
    },
    {
      "cell_type": "code",
      "execution_count": 91,
      "metadata": {
        "id": "WeU4Kn_1B75j"
      },
      "outputs": [],
      "source": [
        "# returns a dict so that:\n",
        "#  - the keys are the coordinates of the centroids of a square dim_map x dim_map map of side length 1\n",
        "#  - the values are in the form (micro_cell, macro_cell) of the centroids\n",
        "def find_centroids(dim_map):\n",
        "\n",
        "    unit_displacement = 1 / (dim_map*2)\n",
        "\n",
        "    centroids_coords = []\n",
        "    for i in range(dim_map,0,-1):\n",
        "        row = []\n",
        "        for j in range(dim_map):\n",
        "            row.append((j*unit_displacement*2 + unit_displacement, i*unit_displacement*2 - unit_displacement))\n",
        "        centroids_coords.append(row)\n",
        "\n",
        "    centroids_dict = {t: (f\"{str(i%2)}{str(j%2)}\", f\"{0 if t[1] > 0.5 else 1}{0 if t[0] < 0.5 else 1}\")\n",
        "     for i,row in enumerate(centroids_coords) for j,t in enumerate(row)}\n",
        "\n",
        "    return centroids_dict"
      ]
    },
    {
      "cell_type": "code",
      "execution_count": 92,
      "metadata": {
        "colab": {
          "base_uri": "https://localhost:8080/"
        },
        "id": "t-SfGFE0B75j",
        "outputId": "b5fe4409-fd6d-4304-d741-fd8a31eb48d2"
      },
      "outputs": [
        {
          "output_type": "stream",
          "name": "stdout",
          "text": [
            "Centroids:\n",
            "{ (0.125, 0.875): ('00', '00') \n",
            "  (0.375, 0.875): ('01', '00') \n",
            "  (0.625, 0.875): ('00', '01') \n",
            "  (0.875, 0.875): ('01', '01') \n",
            "  (0.125, 0.625): ('10', '00') \n",
            "  (0.375, 0.625): ('11', '00') \n",
            "  (0.625, 0.625): ('10', '01') \n",
            "  (0.875, 0.625): ('11', '01') \n",
            "  (0.125, 0.375): ('00', '10') \n",
            "  (0.375, 0.375): ('01', '10') \n",
            "  (0.625, 0.375): ('00', '11') \n",
            "  (0.875, 0.375): ('01', '11') \n",
            "  (0.125, 0.125): ('10', '10') \n",
            "  (0.375, 0.125): ('11', '10') \n",
            "  (0.625, 0.125): ('10', '11') \n",
            "  (0.875, 0.125): ('11', '11') }\n"
          ]
        }
      ],
      "source": [
        "centroids = find_centroids(4)\n",
        "print(\"Centroids:\\n{ \" + \"\\n  \".join(f\"{k}: {v} \" for k, v in centroids.items()) + \"}\")"
      ]
    },
    {
      "cell_type": "code",
      "execution_count": 93,
      "metadata": {
        "id": "KcOKZvRoB75j"
      },
      "outputs": [],
      "source": [
        "# returns the centroid tuple of the cell that a point of coordinates (x,y) is located in\n",
        "def find_closest_centroid(centroids, x, y):\n",
        "    centroids_coords = np.array(list(centroids.keys()))\n",
        "    distances = np.linalg.norm(centroids_coords-np.array([x, y]), axis=1)\n",
        "    return centroids[tuple(centroids_coords[np.argmin(distances)])]"
      ]
    },
    {
      "cell_type": "code",
      "execution_count": 94,
      "metadata": {
        "colab": {
          "base_uri": "https://localhost:8080/"
        },
        "id": "9KfpLALKB75j",
        "outputId": "cad8bde6-f6ae-4cb7-e48f-dd297a80254d"
      },
      "outputs": [
        {
          "output_type": "stream",
          "name": "stdout",
          "text": [
            "Closest centroid to R0: ('00', '00')\n",
            "Closest centroid to R1: ('00', '00')\n",
            "Closest centroid to R2: ('00', '00')\n",
            "Closest centroid to R3: ('00', '00')\n",
            "Closest centroid to R4: ('00', '00')\n",
            "Closest centroid to R5: ('00', '00')\n",
            "Closest centroid to R6: ('00', '00')\n",
            "Closest centroid to R7: ('00', '00')\n",
            "Closest centroid to R8: ('00', '00')\n",
            "Closest centroid to R9: ('00', '00')\n"
          ]
        }
      ],
      "source": [
        "for r in Robotx._registry:\n",
        "    print(f\"Closest centroid to {r.name}: {find_closest_centroid(centroids, r.betax, r.betay)}\")"
      ]
    },
    {
      "cell_type": "code",
      "execution_count": 95,
      "metadata": {
        "colab": {
          "base_uri": "https://localhost:8080/"
        },
        "id": "kP-o28UDB75j",
        "outputId": "18b38203-d336-4e40-e20f-a9ed56bd4fb7"
      },
      "outputs": [
        {
          "output_type": "stream",
          "name": "stdout",
          "text": [
            "Obstacles' centroids:\n",
            "{ (0.125, 0.125): ('10', '10') }\n"
          ]
        }
      ],
      "source": [
        "# associate centroids to obstacles\n",
        "obstacles_centroids = {coord: v for (coord,v) in centroids.items() for o in Obstacle._registry if coord == (o.x, o.y)}\n",
        "print(\"Obstacles' centroids:\\n{ \" + \"\\n  \".join(f\"{k}: {v} \" for k, v in obstacles_centroids.items()) + \"}\")"
      ]
    },
    {
      "cell_type": "code",
      "execution_count": 96,
      "metadata": {
        "id": "4NWsCQwdB75j"
      },
      "outputs": [],
      "source": [
        "# takes as input strings with the binary encoding of cells and outputs the manhattan distance between them\n",
        "def manhattan(start_cell, target_cell):\n",
        "    start_cell_v, target_cell_v = [int(b) for b in start_cell], [int(b) for b in target_cell]\n",
        "    return int(cityblock(start_cell_v, target_cell_v).item())"
      ]
    },
    {
      "cell_type": "code",
      "execution_count": 97,
      "metadata": {
        "colab": {
          "base_uri": "https://localhost:8080/"
        },
        "id": "5otF2VP1B75k",
        "outputId": "976000b4-ab3f-4daa-e3ce-5c34bcfa02ff"
      },
      "outputs": [
        {
          "output_type": "stream",
          "name": "stderr",
          "text": [
            "<>:57: SyntaxWarning: invalid escape sequence '\\p'\n",
            "<>:57: SyntaxWarning: invalid escape sequence '\\p'\n",
            "/tmp/ipython-input-3027027379.py:57: SyntaxWarning: invalid escape sequence '\\p'\n",
            "  U_s.name = \"U$_\\psi$\"\n"
          ]
        }
      ],
      "source": [
        "class GroverPlanner:\n",
        "    def __init__(self, obstacles):\n",
        "        self.simulator = Aer.get_backend(\"aer_simulator\")\n",
        "        self.obstacles = obstacles\n",
        "\n",
        "    #\n",
        "    # Utility functions\n",
        "    #\n",
        "    def XOR(self, qc, a, b, output):\n",
        "        qc.cx(a, output)\n",
        "        qc.cx(b, output)\n",
        "\n",
        "    def encode_cell(self, qc, cell, qubits):\n",
        "        for idx, bit in enumerate(cell):\n",
        "            bitn = int(bit)\n",
        "            if bitn:\n",
        "                qc.x(qubits[idx])\n",
        "\n",
        "    def encode_target(self, qc, target_cell, qubits):\n",
        "        for idx, bit in enumerate(target_cell):\n",
        "            bitn = int(bit)\n",
        "            if not bitn:\n",
        "                qc.x(qubits[idx])\n",
        "\n",
        "    def obstacles_in_map(self, target_cell):\n",
        "        return any(target_cell[1] == macro_cell for macro_cell in list(map(lambda ob_t: ob_t[1], self.obstacles)))\n",
        "\n",
        "    #\n",
        "    # Grover diffuser\n",
        "    #\n",
        "    def diffuser(self, nqubits):\n",
        "        diff = QuantumCircuit(nqubits)\n",
        "\n",
        "        # Apply transformation |s> -> |00..0> (H-gates)\n",
        "        for qubit in range(nqubits):\n",
        "            diff.h(qubit)\n",
        "\n",
        "        # Apply transformation |00..0> -> |11..1> (X-gates)\n",
        "        for qubit in range(nqubits):\n",
        "            diff.x(qubit)\n",
        "\n",
        "        # Do multi-controlled-Z gate\n",
        "        diff.h(nqubits - 1)\n",
        "        # Use mcx with mode='noancilla' for multi-controlled Toffoli\n",
        "        diff.mcx(list(range(nqubits - 1)), nqubits - 1, mode='noancilla')\n",
        "        diff.h(nqubits - 1)\n",
        "\n",
        "        # Apply transformation |11..1> -> |00..0>\n",
        "        for qubit in range(nqubits):\n",
        "            diff.x(qubit)\n",
        "\n",
        "        # Apply transformation |00..0> -> |s>\n",
        "        for qubit in range(nqubits):\n",
        "            diff.h(qubit)\n",
        "\n",
        "        U_s = diff.to_gate()\n",
        "        U_s.name = \"U$_\\psi$\"\n",
        "        return U_s\n",
        "\n",
        "    #\n",
        "    # Half oracle\n",
        "    #\n",
        "    # it performs the quantum moves to get to the final state the solution test is performed on; its structure\n",
        "    # changes according to both the number of movements required to get to the target and the presence of obstacles\n",
        "    #\n",
        "    def half_oracle(self, num_of_M, obstacles_in_map, quantum_registers):\n",
        "\n",
        "        if num_of_M == 1:\n",
        "\n",
        "            ho = QuantumCircuit(*quantum_registers)\n",
        "            pos_qubits, mov_qubits, c, output = quantum_registers\n",
        "\n",
        "            # -- First M --\n",
        "            self.XOR(ho, pos_qubits[1], mov_qubits[0], c[0])\n",
        "            ho.x(c[0])\n",
        "            self.XOR(ho, pos_qubits[0], mov_qubits[0], c[1])\n",
        "\n",
        "        elif num_of_M == 2:\n",
        "\n",
        "            ho = QuantumCircuit(*quantum_registers)\n",
        "\n",
        "            if obstacles_in_map:\n",
        "                pos_qubits, mov_qubits, c, o, caux, out, output = quantum_registers\n",
        "            else:\n",
        "                pos_qubits, mov_qubits, c, output = quantum_registers\n",
        "\n",
        "            # -- First M --\n",
        "            self.XOR(ho, pos_qubits[1], mov_qubits[0], c[0])\n",
        "            ho.x(c[0])\n",
        "            self.XOR(ho, pos_qubits[0], mov_qubits[0], c[1])\n",
        "\n",
        "            if obstacles_in_map:\n",
        "                # -- Obstacle encoding --\n",
        "                for obstacle in self.obstacles:\n",
        "                    self.encode_cell(ho, obstacle[0], [c[0], c[1]])\n",
        "                    ho.ccx(c[0], c[1], o)\n",
        "                    self.encode_cell(ho, obstacle[0], [c[0], c[1]])\n",
        "\n",
        "            # -- Second M --\n",
        "            self.XOR(ho, c[1], mov_qubits[1], c[2])\n",
        "            ho.x(c[2])\n",
        "            self.XOR(ho, c[0], mov_qubits[1], c[3])\n",
        "\n",
        "            if obstacles_in_map:\n",
        "                # -- Selection stage --\n",
        "                ho.ccx(c[2], o, caux[0])\n",
        "                ho.x(caux[0])\n",
        "                ho.ccx(c[3], o, caux[1])\n",
        "                ho.x(caux[1])\n",
        "\n",
        "                ho.x(o)\n",
        "\n",
        "                ho.ccx(pos_qubits[0], o, caux[2])\n",
        "                ho.x(caux[2])\n",
        "                ho.ccx(pos_qubits[1], o, caux[3])\n",
        "                ho.x(caux[3])\n",
        "\n",
        "                ho.ccx(caux[0], caux[2], out[0])\n",
        "                ho.x(out[0])\n",
        "                ho.ccx(caux[1], caux[3], out[1])\n",
        "                ho.x(out[1])\n",
        "\n",
        "        HalfOracle = ho.to_gate()\n",
        "        HalfOracle.name = \"HO\"\n",
        "        return HalfOracle\n",
        "\n",
        "    #\n",
        "    # Grover oracle\n",
        "    #\n",
        "    # it is composed of a oracle half, the testing operator, and the mirror circuit of the first half\n",
        "    #\n",
        "    def oracle(self, num_of_M, target_cell, m_type, obstacles_in_map, qc, quantum_registers):\n",
        "\n",
        "        halforacle = self.half_oracle(num_of_M, obstacles_in_map, quantum_registers)\n",
        "\n",
        "        additional_regs = []\n",
        "\n",
        "        if obstacles_in_map:\n",
        "            pos_qubits, mov_qubits, c, *additional_regs, output = quantum_registers\n",
        "        else:\n",
        "            pos_qubits, mov_qubits, c, output = quantum_registers\n",
        "\n",
        "        # -- First half of the oracle --\n",
        "        qc.append(\n",
        "            halforacle,\n",
        "            pos_qubits[:]\n",
        "            + mov_qubits[:]\n",
        "            + c[:]\n",
        "            + (\n",
        "                (additional_regs[0][:] + additional_regs[1][:] + additional_regs[2][:])\n",
        "                if additional_regs\n",
        "                else []\n",
        "            )\n",
        "            + output[:],\n",
        "        )\n",
        "\n",
        "        # -- Test operator --\n",
        "        test_qubits = c[-2:] if num_of_M == 1 or (num_of_M == 2 and not obstacles_in_map) else additional_regs[2]\n",
        "        tcell_idx = 0 if m_type == \"micro\" else 1\n",
        "        self.encode_target(qc, target_cell[tcell_idx], [test_qubits[0], test_qubits[1]])\n",
        "        qc.ccx(test_qubits[0], test_qubits[1], output)\n",
        "        self.encode_target(qc, target_cell[tcell_idx], [test_qubits[0], test_qubits[1]])\n",
        "\n",
        "        # -- Mirror circuit of the first half of the oracle --\n",
        "        qc.append(\n",
        "            halforacle.inverse(),\n",
        "            pos_qubits[:]\n",
        "            + mov_qubits[:]\n",
        "            + c[:]\n",
        "            + (\n",
        "                (additional_regs[0][:] + additional_regs[1][:] + additional_regs[2][:])\n",
        "                if additional_regs\n",
        "                else []\n",
        "            )\n",
        "            + output[:],\n",
        "        )\n",
        "\n",
        "    #\n",
        "    # Path planning\n",
        "    #\n",
        "    # takes as input the tuples of centroids start_cell and target_cell, together with the movement type (m_type),\n",
        "    # that can yield the values \"micro\" or \"macro\"\n",
        "    #\n",
        "    def find_path(self, start_cell, target_cell, m_type):\n",
        "\n",
        "        # number of M operators is equal to the Manhattan distance between start and target\n",
        "        cell_idx = 0 if m_type == \"micro\" else 1\n",
        "        num_of_M = manhattan(start_cell[cell_idx], target_cell[cell_idx])\n",
        "\n",
        "        # --- Initializations ---\n",
        "        pos_qubits = QuantumRegister(2, name=\"r\")\n",
        "        mov_qubits = QuantumRegister(num_of_M, name=\"m\")\n",
        "        c = QuantumRegister(2 * num_of_M, name=\"c\")\n",
        "\n",
        "        o = QuantumRegister(1, name=\"o\")\n",
        "        caux = QuantumRegister(4, name=\"caux\")\n",
        "        out = QuantumRegister(2, name=\"out\")\n",
        "\n",
        "        output = QuantumRegister(1, name=\"q\")\n",
        "        cbits = ClassicalRegister(2 + num_of_M, name=\"cbits\")\n",
        "\n",
        "        # check if there are obstacles to be considered within the path\n",
        "        obstacles_in_map = self.obstacles_in_map(target_cell) and m_type == \"micro\"\n",
        "\n",
        "        # ensemble of quantum registers to build the QuantumCircuit with\n",
        "        base_registers = [pos_qubits, mov_qubits, c, output, cbits]\n",
        "        additional_registers = base_registers.copy()\n",
        "        additional_registers[3:3] = [o, caux, out]\n",
        "        quantum_registers = (\n",
        "            base_registers\n",
        "            if num_of_M == 1 or (num_of_M == 2 and not obstacles_in_map)\n",
        "            else additional_registers\n",
        "        )\n",
        "\n",
        "        qc = QuantumCircuit(*quantum_registers)\n",
        "\n",
        "        # initialize pos_qubits in uniform superposition\n",
        "        qc.h(pos_qubits)\n",
        "\n",
        "        # initialize mov_qubits in state |s>\n",
        "        qc.h(mov_qubits)\n",
        "\n",
        "        # initialize 'output0' in state |->\n",
        "        qc.initialize([1, -1] / np.sqrt(2), output)\n",
        "\n",
        "        # --- Oracle + Diffuser ---\n",
        "        num_iterations = 1\n",
        "        for _ in range(num_iterations):\n",
        "            self.oracle(\n",
        "                num_of_M,\n",
        "                target_cell,\n",
        "                m_type,\n",
        "                obstacles_in_map,\n",
        "                qc,\n",
        "                quantum_registers[:-1],\n",
        "            )\n",
        "            diff_qubits = [0, 1, 2] if num_of_M == 1 else list(range(2 + num_of_M))\n",
        "            qc.append(self.diffuser(len(diff_qubits)), diff_qubits)\n",
        "\n",
        "        # --- Measurement ---\n",
        "        qc.measure(pos_qubits, cbits[0:2])\n",
        "        qc.measure(mov_qubits, cbits[2 : (2 + num_of_M)])\n",
        "\n",
        "        # --- Simulation ---\n",
        "        transpiled_qc = transpile(qc, self.simulator)\n",
        "        result_counts = self.simulator.run(transpiled_qc).result().get_counts()\n",
        "\n",
        "        # filtering out all the non-trivial solutions on the simulation output\n",
        "        return [k for k in result_counts.keys() if k[-2:] == start_cell[cell_idx][len(start_cell[cell_idx]) :: -1]]\n",
        "\n",
        "groverPlanner = GroverPlanner(obstacles_centroids.values())"
      ]
    },
    {
      "cell_type": "code",
      "execution_count": 98,
      "metadata": {
        "colab": {
          "base_uri": "https://localhost:8080/"
        },
        "id": "Z4QJlGDlB75k",
        "outputId": "4b40b17a-dac4-4256-b20c-a5495c5383e3"
      },
      "outputs": [
        {
          "output_type": "stream",
          "name": "stderr",
          "text": [
            "/tmp/ipython-input-3027027379.py:45: DeprecationWarning: ``qiskit.circuit.quantumcircuit.QuantumCircuit.mcx()``'s argument ``mode`` is deprecated as of Qiskit 2.1. It will be removed no earlier than 3 months after the release date. Instead, add a generic MCXGate to the circuit and specify the synthesis method via the ``hls_config`` in the transpilation. Alternatively, specific decompositions are available at https://qisk.it/mcx.\n",
            "  diff.mcx(list(range(nqubits - 1)), nqubits - 1, mode='noancilla')\n"
          ]
        },
        {
          "output_type": "execute_result",
          "data": {
            "text/plain": [
              "['100']"
            ]
          },
          "metadata": {},
          "execution_count": 98
        }
      ],
      "source": [
        "# test\n",
        "groverPlanner.find_path(start_cell=(\"00\", \"00\"), target_cell=(\"00\", \"01\"), m_type=\"macro\")"
      ]
    },
    {
      "cell_type": "code",
      "execution_count": 99,
      "metadata": {
        "id": "kTMmjBSiB75k"
      },
      "outputs": [],
      "source": [
        "# returns a list with the micro and macro displacement after the movement\n",
        "def eval_displacement(old_centroid, new_centroid):\n",
        "    old_c_micro, old_c_macro = old_centroid\n",
        "    new_c_micro, new_c_macro = new_centroid\n",
        "    return [manhattan(old_c_micro, new_c_micro), manhattan(old_c_macro, new_c_macro)]"
      ]
    },
    {
      "cell_type": "code",
      "execution_count": 100,
      "metadata": {
        "id": "sr95LaAXB75w"
      },
      "outputs": [],
      "source": [
        "# computes the movements required to get to the position encoded in new_alphas, which has the form [new_alphax, new_alphay]\n",
        "#\n",
        "# it also updates the new position of the robot, so there is no need to do that separately\n",
        "#\n",
        "def compute_path_to_position(robot, new_alphas):\n",
        "\n",
        "    # starting centroid\n",
        "    old_centroid = find_closest_centroid(centroids, robot.betax, robot.betay)\n",
        "\n",
        "    # assign new positions\n",
        "    robot.alphax, robot.alphay = new_alphas\n",
        "    robot.betax, robot.betay = c_ampl(robot.alphax), c_ampl(robot.alphay)\n",
        "\n",
        "    # new centroid\n",
        "    new_centroid = find_closest_centroid(centroids, robot.betax, robot.betay)\n",
        "\n",
        "    # displacement between the new and starting centroids\n",
        "    displacement = eval_displacement(old_centroid, new_centroid)\n",
        "\n",
        "    #\n",
        "    # Planning the path according to the different possible displacement:\n",
        "    #   - macro: the robot changes macro-cell but stays in the same micro-cell\n",
        "    #   - micro: the robot changes micro-cell but stays in the same macro-cell\n",
        "    #   - macro and micro: the robot changes both macro and micro cells\n",
        "    #   - if the new position is in the same micro and macro cells nothing happens\n",
        "    #\n",
        "\n",
        "    # --- Macro movement ---\n",
        "    if displacement[0] == 0 and displacement[1] != 0:\n",
        "        print(f\"{robot.name}: macro\")\n",
        "        evaluated_path = groverPlanner.find_path(old_centroid, new_centroid, m_type=\"macro\")\n",
        "        print(f\"{robot.name} evaluated path: {evaluated_path[0][:-2]}\")\n",
        "\n",
        "    # --- Micro movement ---\n",
        "    elif displacement[0] != 0 and displacement[1] == 0:\n",
        "        print(f\"{robot.name}: micro\")\n",
        "        evaluated_path = groverPlanner.find_path(old_centroid, new_centroid, m_type=\"micro\")\n",
        "        print(f\"{robot.name} evaluated path: {evaluated_path[0][:-2]}\")\n",
        "\n",
        "    # --- Macro and micro movement ---\n",
        "    elif displacement[0] != 0 and displacement[1] != 0:\n",
        "        print(f\"{robot.name}: macro-micro\")\n",
        "        # macro path\n",
        "        evaluated_path = groverPlanner.find_path(old_centroid, new_centroid, m_type=\"macro\")\n",
        "        print(f\"{robot.name} evaluated path (macro): {evaluated_path[0][:-2]}\")\n",
        "\n",
        "        # micro path\n",
        "        evaluated_path = groverPlanner.find_path(old_centroid, new_centroid, m_type=\"micro\")\n",
        "        print(f\"{robot.name} evaluated path (micro): {evaluated_path[0][:-2]}\")"
      ]
    },
    {
      "cell_type": "code",
      "execution_count": 101,
      "metadata": {
        "id": "54tyZpNSB75w"
      },
      "outputs": [],
      "source": [
        "# check whether a given position ends up in a obstacle cell\n",
        "def is_position_on_obstacle(new_alphas):\n",
        "    new_pos_centroid = find_closest_centroid(centroids, c_ampl(new_alphas[0]), c_ampl(new_alphas[1]))\n",
        "    return True if new_pos_centroid in obstacles_centroids.values() else False"
      ]
    },
    {
      "cell_type": "code",
      "execution_count": 102,
      "metadata": {
        "id": "b1TlsFlJB75w"
      },
      "outputs": [],
      "source": [
        "def informed_alpha_reshuffling():\n",
        "\n",
        "    # parse the coordinates of farthest robot from the target\n",
        "    #\n",
        "    # since this method is called when the robots are in a cluster (either at the start or ar the end\n",
        "    # of a full procedure), it does not matter which robot is chosen, all being quite close to each other;\n",
        "    # here, among all, I am choosing the farthest one with the idea of \"maximum coverage\" of the search space\n",
        "    #\n",
        "    farthest_robot = min(Robotx._registry, key=attrgetter('delta'))\n",
        "    f_centroid = find_closest_centroid(centroids, farthest_robot.betax, farthest_robot.betay)\n",
        "    f_coords = list(list(centroids.keys())[list(centroids.values()).index(f_centroid)])\n",
        "\n",
        "    # handle the case where the robot lies in the same row/column of the target\n",
        "    if f_coords[0] == T.x:\n",
        "        f_coords[0] = f_coords[1]\n",
        "    elif f_coords[1] == T.y:\n",
        "        f_coords[1] = f_coords[0]\n",
        "\n",
        "    # compute the new reshuffled position within the rectangle\n",
        "    return [c_ampl(np.random.uniform(f_coords[0], T.x)), c_ampl(np.random.uniform(f_coords[1], T.y))]"
      ]
    },
    {
      "cell_type": "code",
      "execution_count": 103,
      "metadata": {
        "colab": {
          "base_uri": "https://localhost:8080/"
        },
        "id": "iTkvuSGmB75w",
        "outputId": "6fbbd59c-753e-4ba9-b0eb-492d91b40a48"
      },
      "outputs": [
        {
          "output_type": "stream",
          "name": "stdout",
          "text": [
            "Do all the robots have a reward lower than 0.8? : True\n",
            "R0: macro\n"
          ]
        },
        {
          "output_type": "stream",
          "name": "stderr",
          "text": [
            "/tmp/ipython-input-3027027379.py:45: DeprecationWarning: ``qiskit.circuit.quantumcircuit.QuantumCircuit.mcx()``'s argument ``mode`` is deprecated as of Qiskit 2.1. It will be removed no earlier than 3 months after the release date. Instead, add a generic MCXGate to the circuit and specify the synthesis method via the ``hls_config`` in the transpilation. Alternatively, specific decompositions are available at https://qisk.it/mcx.\n",
            "  diff.mcx(list(range(nqubits - 1)), nqubits - 1, mode='noancilla')\n"
          ]
        },
        {
          "output_type": "stream",
          "name": "stdout",
          "text": [
            "R0 evaluated path: 00\n",
            "R1: macro-micro\n",
            "R1 evaluated path (macro): 0\n"
          ]
        },
        {
          "output_type": "stream",
          "name": "stderr",
          "text": [
            "/tmp/ipython-input-3027027379.py:45: DeprecationWarning: ``qiskit.circuit.quantumcircuit.QuantumCircuit.mcx()``'s argument ``mode`` is deprecated as of Qiskit 2.1. It will be removed no earlier than 3 months after the release date. Instead, add a generic MCXGate to the circuit and specify the synthesis method via the ``hls_config`` in the transpilation. Alternatively, specific decompositions are available at https://qisk.it/mcx.\n",
            "  diff.mcx(list(range(nqubits - 1)), nqubits - 1, mode='noancilla')\n"
          ]
        },
        {
          "output_type": "stream",
          "name": "stdout",
          "text": [
            "R1 evaluated path (micro): 11\n",
            "R2: micro\n"
          ]
        },
        {
          "output_type": "stream",
          "name": "stderr",
          "text": [
            "/tmp/ipython-input-3027027379.py:45: DeprecationWarning: ``qiskit.circuit.quantumcircuit.QuantumCircuit.mcx()``'s argument ``mode`` is deprecated as of Qiskit 2.1. It will be removed no earlier than 3 months after the release date. Instead, add a generic MCXGate to the circuit and specify the synthesis method via the ``hls_config`` in the transpilation. Alternatively, specific decompositions are available at https://qisk.it/mcx.\n",
            "  diff.mcx(list(range(nqubits - 1)), nqubits - 1, mode='noancilla')\n"
          ]
        },
        {
          "output_type": "stream",
          "name": "stdout",
          "text": [
            "R2 evaluated path: 11\n",
            "R3: macro-micro\n"
          ]
        },
        {
          "output_type": "stream",
          "name": "stderr",
          "text": [
            "/tmp/ipython-input-3027027379.py:45: DeprecationWarning: ``qiskit.circuit.quantumcircuit.QuantumCircuit.mcx()``'s argument ``mode`` is deprecated as of Qiskit 2.1. It will be removed no earlier than 3 months after the release date. Instead, add a generic MCXGate to the circuit and specify the synthesis method via the ``hls_config`` in the transpilation. Alternatively, specific decompositions are available at https://qisk.it/mcx.\n",
            "  diff.mcx(list(range(nqubits - 1)), nqubits - 1, mode='noancilla')\n"
          ]
        },
        {
          "output_type": "stream",
          "name": "stdout",
          "text": [
            "R3 evaluated path (macro): 11\n",
            "R3 evaluated path (micro): 1\n",
            "R4: macro-micro\n"
          ]
        },
        {
          "output_type": "stream",
          "name": "stderr",
          "text": [
            "/tmp/ipython-input-3027027379.py:45: DeprecationWarning: ``qiskit.circuit.quantumcircuit.QuantumCircuit.mcx()``'s argument ``mode`` is deprecated as of Qiskit 2.1. It will be removed no earlier than 3 months after the release date. Instead, add a generic MCXGate to the circuit and specify the synthesis method via the ``hls_config`` in the transpilation. Alternatively, specific decompositions are available at https://qisk.it/mcx.\n",
            "  diff.mcx(list(range(nqubits - 1)), nqubits - 1, mode='noancilla')\n"
          ]
        },
        {
          "output_type": "stream",
          "name": "stdout",
          "text": [
            "R4 evaluated path (macro): 11\n",
            "R4 evaluated path (micro): 0\n",
            "R5: macro-micro\n"
          ]
        },
        {
          "output_type": "stream",
          "name": "stderr",
          "text": [
            "/tmp/ipython-input-3027027379.py:45: DeprecationWarning: ``qiskit.circuit.quantumcircuit.QuantumCircuit.mcx()``'s argument ``mode`` is deprecated as of Qiskit 2.1. It will be removed no earlier than 3 months after the release date. Instead, add a generic MCXGate to the circuit and specify the synthesis method via the ``hls_config`` in the transpilation. Alternatively, specific decompositions are available at https://qisk.it/mcx.\n",
            "  diff.mcx(list(range(nqubits - 1)), nqubits - 1, mode='noancilla')\n"
          ]
        },
        {
          "output_type": "stream",
          "name": "stdout",
          "text": [
            "R5 evaluated path (macro): 11\n",
            "R5 evaluated path (micro): 0\n",
            "R6: macro-micro\n"
          ]
        },
        {
          "output_type": "stream",
          "name": "stderr",
          "text": [
            "/tmp/ipython-input-3027027379.py:45: DeprecationWarning: ``qiskit.circuit.quantumcircuit.QuantumCircuit.mcx()``'s argument ``mode`` is deprecated as of Qiskit 2.1. It will be removed no earlier than 3 months after the release date. Instead, add a generic MCXGate to the circuit and specify the synthesis method via the ``hls_config`` in the transpilation. Alternatively, specific decompositions are available at https://qisk.it/mcx.\n",
            "  diff.mcx(list(range(nqubits - 1)), nqubits - 1, mode='noancilla')\n"
          ]
        },
        {
          "output_type": "stream",
          "name": "stdout",
          "text": [
            "R6 evaluated path (macro): 00\n",
            "R6 evaluated path (micro): 0\n",
            "R7: macro-micro\n"
          ]
        },
        {
          "output_type": "stream",
          "name": "stderr",
          "text": [
            "/tmp/ipython-input-3027027379.py:45: DeprecationWarning: ``qiskit.circuit.quantumcircuit.QuantumCircuit.mcx()``'s argument ``mode`` is deprecated as of Qiskit 2.1. It will be removed no earlier than 3 months after the release date. Instead, add a generic MCXGate to the circuit and specify the synthesis method via the ``hls_config`` in the transpilation. Alternatively, specific decompositions are available at https://qisk.it/mcx.\n",
            "  diff.mcx(list(range(nqubits - 1)), nqubits - 1, mode='noancilla')\n"
          ]
        },
        {
          "output_type": "stream",
          "name": "stdout",
          "text": [
            "R7 evaluated path (macro): 11\n"
          ]
        },
        {
          "output_type": "stream",
          "name": "stderr",
          "text": [
            "/tmp/ipython-input-3027027379.py:45: DeprecationWarning: ``qiskit.circuit.quantumcircuit.QuantumCircuit.mcx()``'s argument ``mode`` is deprecated as of Qiskit 2.1. It will be removed no earlier than 3 months after the release date. Instead, add a generic MCXGate to the circuit and specify the synthesis method via the ``hls_config`` in the transpilation. Alternatively, specific decompositions are available at https://qisk.it/mcx.\n",
            "  diff.mcx(list(range(nqubits - 1)), nqubits - 1, mode='noancilla')\n"
          ]
        },
        {
          "output_type": "stream",
          "name": "stdout",
          "text": [
            "R7 evaluated path (micro): 00\n",
            "R8: macro-micro\n"
          ]
        },
        {
          "output_type": "stream",
          "name": "stderr",
          "text": [
            "/tmp/ipython-input-3027027379.py:45: DeprecationWarning: ``qiskit.circuit.quantumcircuit.QuantumCircuit.mcx()``'s argument ``mode`` is deprecated as of Qiskit 2.1. It will be removed no earlier than 3 months after the release date. Instead, add a generic MCXGate to the circuit and specify the synthesis method via the ``hls_config`` in the transpilation. Alternatively, specific decompositions are available at https://qisk.it/mcx.\n",
            "  diff.mcx(list(range(nqubits - 1)), nqubits - 1, mode='noancilla')\n"
          ]
        },
        {
          "output_type": "stream",
          "name": "stdout",
          "text": [
            "R8 evaluated path (macro): 11\n"
          ]
        },
        {
          "output_type": "stream",
          "name": "stderr",
          "text": [
            "/tmp/ipython-input-3027027379.py:45: DeprecationWarning: ``qiskit.circuit.quantumcircuit.QuantumCircuit.mcx()``'s argument ``mode`` is deprecated as of Qiskit 2.1. It will be removed no earlier than 3 months after the release date. Instead, add a generic MCXGate to the circuit and specify the synthesis method via the ``hls_config`` in the transpilation. Alternatively, specific decompositions are available at https://qisk.it/mcx.\n",
            "  diff.mcx(list(range(nqubits - 1)), nqubits - 1, mode='noancilla')\n"
          ]
        },
        {
          "output_type": "stream",
          "name": "stdout",
          "text": [
            "R8 evaluated path (micro): 1\n",
            "R9: macro\n",
            "R9 evaluated path: 00\n"
          ]
        }
      ],
      "source": [
        "result = all(i.delta < 0.8 for i in Robotx._registry)\n",
        "print(\"Do all the robots have a reward lower than 0.8? : \" + str(result))\n",
        "\n",
        "# if True: reshuffle positions\n",
        "# if False: do nothing\n",
        "\n",
        "# reshuffling is considered invalid if the target position of the robot is the same as that of an obstacle;\n",
        "# with this consideration, no computational time is wasted trying to find the path to an inaccessible cell\n",
        "\n",
        "if result == True:\n",
        "    for i in Robotx._registry:\n",
        "        new_alphas = informed_alpha_reshuffling()\n",
        "\n",
        "        # if new position ends up in an obstacle cell, recompute the alphas\n",
        "        while is_position_on_obstacle(new_alphas):\n",
        "            new_alphas = informed_alpha_reshuffling()\n",
        "\n",
        "        compute_path_to_position(i, new_alphas)"
      ]
    },
    {
      "cell_type": "code",
      "execution_count": 104,
      "metadata": {
        "id": "fEUweDs0B75w"
      },
      "outputs": [],
      "source": [
        "# recalculate the rewards\n",
        "def recalculate_rewards():\n",
        "    for i in Robotx._registry:\n",
        "        i.delta = reward(T, i.betax, i.betay)\n",
        "        i.gamma = c_ampl(i.delta)\n",
        "        print(f\"{i.name} {i.delta:.2f}\")"
      ]
    },
    {
      "cell_type": "code",
      "execution_count": 105,
      "metadata": {
        "colab": {
          "base_uri": "https://localhost:8080/"
        },
        "id": "z0Z68z40B75x",
        "outputId": "d9e213fa-00a1-4028-fcb1-3c5c6a40d3a5"
      },
      "outputs": [
        {
          "output_type": "stream",
          "name": "stdout",
          "text": [
            "R0 0.74\n",
            "R1 0.58\n",
            "R2 0.58\n",
            "R3 0.74\n",
            "R4 0.83\n",
            "R5 0.85\n",
            "R6 0.87\n",
            "R7 0.91\n",
            "R8 0.88\n",
            "R9 0.70\n",
            "Average reward: 0.7663685311483057\n"
          ]
        }
      ],
      "source": [
        "recalculate_rewards()\n",
        "print(f\"Average reward: {calculate_avg_reward()}\")"
      ]
    },
    {
      "cell_type": "code",
      "execution_count": 106,
      "metadata": {
        "colab": {
          "base_uri": "https://localhost:8080/",
          "height": 452
        },
        "id": "6_oLEFevB75x",
        "outputId": "afcfc85d-e803-45cd-b900-78445900aa20"
      },
      "outputs": [
        {
          "output_type": "display_data",
          "data": {
            "text/plain": [
              "<Figure size 640x480 with 1 Axes>"
            ],
            "image/png": "[encoded data removed]"
          },
          "metadata": {}
        }
      ],
      "source": [
        "plot_scatterplot(\"Reshuffled positions\")"
      ]
    },
    {
      "cell_type": "markdown",
      "metadata": {
        "id": "FPINSj0aB75x"
      },
      "source": [
        "### 5.1 Circuit construction and execution"
      ]
    },
    {
      "cell_type": "code",
      "execution_count": 107,
      "metadata": {
        "id": "xaFF6kB7B75x"
      },
      "outputs": [],
      "source": [
        "q = QuantumRegister(5, 'q') # qubits # changed to 9, formerly 15\n",
        "m2 = ClassicalRegister(1, 'c1') # classical bits (separated is better)\n",
        "m3 = ClassicalRegister(1, 'c2')\n",
        "m4 = ClassicalRegister(1, 'c3')\n",
        "meas = ClassicalRegister(3, 'meas')\n",
        "\n",
        "qc3 = QuantumCircuit(q, m2, m3, m4) # to reach the target\n",
        "qc4 = QuantumCircuit(q, m2, m3, m4) # to get back to the nest"
      ]
    },
    {
      "cell_type": "code",
      "execution_count": 108,
      "metadata": {
        "id": "OyqkLN3UB75x"
      },
      "outputs": [],
      "source": [
        "# utility function to better visualize the statevectors we are working with\n",
        "def print_formatted_vector(*args):\n",
        "    for vector in args:\n",
        "        print(\"[\" + \"\".join(f\"{val:.2f} \" for val in vector).strip() + \"]\")"
      ]
    },
    {
      "cell_type": "code",
      "execution_count": 109,
      "metadata": {
        "colab": {
          "base_uri": "https://localhost:8080/"
        },
        "id": "gfVQ2dhTB75x",
        "outputId": "915458bc-e26a-4f8e-ffa1-7b849371b48a"
      },
      "outputs": [
        {
          "output_type": "stream",
          "name": "stdout",
          "text": [
            "Closest robot to the target: R7 0.78 0.21 0.91\n",
            "[0.63 0.78]\n",
            "[0.98 0.21]\n",
            "[0.41 0.91]\n",
            "[0.63 0.78]\n",
            "[0.98 0.21]\n",
            "[0.41 0.91]\n"
          ]
        }
      ],
      "source": [
        "# in case of ties on delta score, the max() function outputs the first maximum item it processes\n",
        "closest_robot = max(Robotx._registry, key=attrgetter('delta'))\n",
        "print(f\"Closest robot to the target: {closest_robot.name} {closest_robot.betax:.2f} {closest_robot.betay:.2f} {closest_robot.delta:.2f}\")\n",
        "\n",
        "# and then it enters the gate\n",
        "vector0 = [closest_robot.alphax, closest_robot.betax]\n",
        "vector1 = [closest_robot.alphay, closest_robot.betay]\n",
        "vector3 = [closest_robot.gamma, closest_robot.delta]\n",
        "\n",
        "normalized_v0 = vector0/np.linalg.norm(vector0)\n",
        "normalized_v1 = vector1/np.linalg.norm(vector1)\n",
        "normalized_v3 = vector3/np.linalg.norm(vector3)\n",
        "\n",
        "print_formatted_vector(vector0, vector1, vector3)\n",
        "print_formatted_vector(normalized_v0, normalized_v1, normalized_v3)"
      ]
    },
    {
      "cell_type": "code",
      "execution_count": 110,
      "metadata": {
        "colab": {
          "base_uri": "https://localhost:8080/"
        },
        "id": "SXn9pJx5B75x",
        "outputId": "696da29b-6972-4635-f9e5-aa6edede1fc8"
      },
      "outputs": [
        {
          "output_type": "execute_result",
          "data": {
            "text/plain": [
              "<qiskit.circuit.instructionset.InstructionSet at 0x782966eae3e0>"
            ]
          },
          "metadata": {},
          "execution_count": 110
        }
      ],
      "source": [
        "# direct initialization with amplitudes vector\n",
        "qc3.initialize(normalized_v0, q[0])\n",
        "qc3.initialize(normalized_v1, q[1])\n",
        "qc3.initialize(normalized_v3, q[2])"
      ]
    },
    {
      "cell_type": "code",
      "metadata": {
        "colab": {
          "base_uri": "https://localhost:8080/"
        },
        "id": "7204e851",
        "outputId": "89749565-8c2e-40f8-b7af-18f0fdd0eaf9"
      },
      "source": [
        "!pip install pylatexenc"
      ],
      "execution_count": 111,
      "outputs": [
        {
          "output_type": "stream",
          "name": "stdout",
          "text": [
            "Requirement already satisfied: pylatexenc in /usr/local/lib/python3.12/dist-packages (2.10)\n"
          ]
        }
      ]
    },
    {
      "cell_type": "code",
      "execution_count": 112,
      "metadata": {
        "id": "HDPj3WmiB75x",
        "colab": {
          "base_uri": "https://localhost:8080/",
          "height": 577
        },
        "outputId": "5855034c-ea04-4487-d6e8-4c2f4b1644ae"
      },
      "outputs": [
        {
          "output_type": "execute_result",
          "data": {
            "text/plain": [
              "<Figure size 1207.22x702.333 with 1 Axes>"
            ],
            "image/png": "[encoded data removed]"
          },
          "metadata": {},
          "execution_count": 112
        }
      ],
      "source": [
        "# this is the core code, and it is unchanged across time\n",
        "#\n",
        "qc3.barrier(q)\n",
        "\n",
        "qc3.ccx(q[0],q[2],q[3])\n",
        "qc3.ccx(q[1],q[2],q[4])\n",
        "\n",
        "qc3.x(q[2])\n",
        "\n",
        "qc3.ch(q[2],q[3])\n",
        "qc3.ch(q[2],q[4])\n",
        "\n",
        "qc3.x(q[2])\n",
        "\n",
        "qc3.barrier(q)\n",
        "\n",
        "# perform measurements and store them in classical bits\n",
        "qc3.measure(q[2],m2[0])\n",
        "qc3.measure(q[3],m3[0])\n",
        "qc3.measure(q[4],m4[0])\n",
        "\n",
        "# visualization of the ciruit\n",
        "qc3.draw(output=\"mpl\")"
      ]
    },
    {
      "cell_type": "code",
      "execution_count": 113,
      "metadata": {
        "id": "j-Pueb7BB75x",
        "colab": {
          "base_uri": "https://localhost:8080/",
          "height": 504
        },
        "outputId": "e8fdb8cb-57ee-4e9c-895a-132bc4d04fe4"
      },
      "outputs": [
        {
          "output_type": "stream",
          "name": "stdout",
          "text": [
            "counts:  {'1 0 0': 35, '0 0 0': 37, '0 1 0': 42, '1 1 0': 50, '1 0 1': 11, '0 0 1': 349, '1 1 1': 28, '0 1 1': 472}\n"
          ]
        },
        {
          "output_type": "execute_result",
          "data": {
            "text/plain": [
              "<Figure size 640x480 with 1 Axes>"
            ],
            "image/png": "[encoded data removed]"
          },
          "metadata": {},
          "execution_count": 113
        }
      ],
      "source": [
        "# --- Simulation ---\n",
        "aer_sim = Aer.get_backend(\"aer_simulator\")\n",
        "transpiled_qc = transpile(qc3, aer_sim)\n",
        "result = aer_sim.run(transpiled_qc).result()\n",
        "\n",
        "counts = result.get_counts()\n",
        "print(\"counts: \", counts)\n",
        "\n",
        "plot_histogram(result.get_counts())"
      ]
    },
    {
      "cell_type": "code",
      "execution_count": 114,
      "metadata": {
        "id": "8ZsG_kRjB75x"
      },
      "outputs": [],
      "source": [
        "# calculate weighted outcome on the most probables outcomes of the circuit\n",
        "def eval_outcome(most_prob_dict, n_outcome):\n",
        "    mapped_weights = list(map(lambda res: int(res[n_outcome*2])*most_prob_dict[res], most_prob_dict))\n",
        "    return sum(mapped_weights)/sum(most_prob_dict.values())"
      ]
    },
    {
      "cell_type": "code",
      "execution_count": 115,
      "metadata": {
        "colab": {
          "base_uri": "https://localhost:8080/"
        },
        "id": "6SZNOloRB75y",
        "outputId": "3804d38c-abcd-4a68-f374-70e09eb16d96"
      },
      "outputs": [
        {
          "output_type": "stream",
          "name": "stdout",
          "text": [
            "4 most probable states: {'0 1 1': 472, '0 0 1': 349, '1 1 0': 50, '0 1 0': 42}\n",
            "outcome0: 0.05\n",
            "outcome1: 0.62\n"
          ]
        }
      ],
      "source": [
        "num_most_prob_states = 4\n",
        "\n",
        "# extract the most probable states and then evaluate the outcome\n",
        "most_prob_dict = dict(nlargest(num_most_prob_states, counts.items(), key=itemgetter(1)))\n",
        "print(f\"{num_most_prob_states} most probable states: {most_prob_dict}\")\n",
        "\n",
        "outcome0, outcome1 = eval_outcome(most_prob_dict, 0), eval_outcome(most_prob_dict, 1)\n",
        "\n",
        "print(f\"outcome0: {outcome0:.2f}\\noutcome1: {outcome1:.2f}\")"
      ]
    },
    {
      "cell_type": "code",
      "execution_count": 116,
      "metadata": {
        "colab": {
          "base_uri": "https://localhost:8080/"
        },
        "id": "rti-p-fEB75y",
        "outputId": "96fe7e43-a381-4f9f-9416-f66e88bb0385"
      },
      "outputs": [
        {
          "output_type": "stream",
          "name": "stdout",
          "text": [
            "R0 0.62 0.39\n",
            "R0: micro\n"
          ]
        },
        {
          "output_type": "stream",
          "name": "stderr",
          "text": [
            "/tmp/ipython-input-3027027379.py:45: DeprecationWarning: ``qiskit.circuit.quantumcircuit.QuantumCircuit.mcx()``'s argument ``mode`` is deprecated as of Qiskit 2.1. It will be removed no earlier than 3 months after the release date. Instead, add a generic MCXGate to the circuit and specify the synthesis method via the ``hls_config`` in the transpilation. Alternatively, specific decompositions are available at https://qisk.it/mcx.\n",
            "  diff.mcx(list(range(nqubits - 1)), nqubits - 1, mode='noancilla')\n"
          ]
        },
        {
          "output_type": "stream",
          "name": "stdout",
          "text": [
            "R0 evaluated path: 0\n",
            "R1 0.28 0.18\n",
            "R1: macro-micro\n",
            "R1 evaluated path (macro): 0\n",
            "R1 evaluated path (micro): 1\n",
            "R2 0.47 0.55\n",
            "R2: macro-micro\n",
            "R2 evaluated path (macro): 11\n"
          ]
        },
        {
          "output_type": "stream",
          "name": "stderr",
          "text": [
            "/tmp/ipython-input-3027027379.py:45: DeprecationWarning: ``qiskit.circuit.quantumcircuit.QuantumCircuit.mcx()``'s argument ``mode`` is deprecated as of Qiskit 2.1. It will be removed no earlier than 3 months after the release date. Instead, add a generic MCXGate to the circuit and specify the synthesis method via the ``hls_config`` in the transpilation. Alternatively, specific decompositions are available at https://qisk.it/mcx.\n",
            "  diff.mcx(list(range(nqubits - 1)), nqubits - 1, mode='noancilla')\n"
          ]
        },
        {
          "output_type": "stream",
          "name": "stdout",
          "text": [
            "R2 evaluated path (micro): 1\n",
            "R3 0.84 0.49\n",
            "R3: micro\n",
            "R3 evaluated path: 11\n",
            "R4 0.65 0.22\n",
            "R5 0.69 0.22\n",
            "R6 0.72 0.23\n",
            "R7 0.78 0.21\n",
            "R8 0.82 0.29\n",
            "R8: micro\n"
          ]
        },
        {
          "output_type": "stream",
          "name": "stderr",
          "text": [
            "/tmp/ipython-input-3027027379.py:45: DeprecationWarning: ``qiskit.circuit.quantumcircuit.QuantumCircuit.mcx()``'s argument ``mode`` is deprecated as of Qiskit 2.1. It will be removed no earlier than 3 months after the release date. Instead, add a generic MCXGate to the circuit and specify the synthesis method via the ``hls_config`` in the transpilation. Alternatively, specific decompositions are available at https://qisk.it/mcx.\n",
            "  diff.mcx(list(range(nqubits - 1)), nqubits - 1, mode='noancilla')\n"
          ]
        },
        {
          "output_type": "stream",
          "name": "stdout",
          "text": [
            "R8 evaluated path: 11\n",
            "R9 0.52 0.37\n",
            "R9: micro\n",
            "R9 evaluated path: 0\n"
          ]
        },
        {
          "output_type": "stream",
          "name": "stderr",
          "text": [
            "/tmp/ipython-input-3027027379.py:45: DeprecationWarning: ``qiskit.circuit.quantumcircuit.QuantumCircuit.mcx()``'s argument ``mode`` is deprecated as of Qiskit 2.1. It will be removed no earlier than 3 months after the release date. Instead, add a generic MCXGate to the circuit and specify the synthesis method via the ``hls_config`` in the transpilation. Alternatively, specific decompositions are available at https://qisk.it/mcx.\n",
            "  diff.mcx(list(range(nqubits - 1)), nqubits - 1, mode='noancilla')\n"
          ]
        }
      ],
      "source": [
        "for i in Robotx._registry:\n",
        "    print(f\"{i.name} {i.betax:.2f} {i.betay:.2f}\")\n",
        "    if (i.delta != closest_robot.delta or all(i.delta == j.delta for j in Robotx._registry)): # excluding the robot that entered the gate\n",
        "        compute_path_to_position(i, [c_ampl(outcome1), c_ampl(outcome0)]) # update on alphas is done within the function"
      ]
    },
    {
      "cell_type": "code",
      "execution_count": 117,
      "metadata": {
        "colab": {
          "base_uri": "https://localhost:8080/",
          "height": 452
        },
        "id": "ejQHsml0B75y",
        "outputId": "aa1d7016-741b-47b2-c697-aed6b00a74b7"
      },
      "outputs": [
        {
          "output_type": "display_data",
          "data": {
            "text/plain": [
              "<Figure size 640x480 with 1 Axes>"
            ],
            "image/png": "[encoded data removed]"
          },
          "metadata": {}
        }
      ],
      "source": [
        "plot_scatterplot(\"Closest robot position update\")"
      ]
    },
    {
      "cell_type": "code",
      "execution_count": 118,
      "metadata": {
        "colab": {
          "base_uri": "https://localhost:8080/"
        },
        "id": "qcMzIg0lB75y",
        "outputId": "20b54d2a-4b48-4a0c-a001-7a75c2e96973"
      },
      "outputs": [
        {
          "output_type": "stream",
          "name": "stdout",
          "text": [
            "before the gate: R0 0.74\n",
            "before the gate: R1 0.58\n",
            "before the gate: R2 0.58\n",
            "before the gate: R3 0.74\n",
            "before the gate: R4 0.83\n",
            "before the gate: R5 0.85\n",
            "before the gate: R6 0.87\n",
            "before the gate: R7 0.91\n",
            "before the gate: R8 0.88\n",
            "before the gate: R9 0.70\n"
          ]
        }
      ],
      "source": [
        "# former rewards\n",
        "for i in  Robotx._registry:\n",
        "    print(f\"before the gate: {i.name} {i.delta:.2f}\")"
      ]
    },
    {
      "cell_type": "code",
      "execution_count": 119,
      "metadata": {
        "colab": {
          "base_uri": "https://localhost:8080/"
        },
        "id": "Lkvn6LV3B75y",
        "outputId": "c84cf7b1-09d2-49e1-f7f8-243db2a71b3b"
      },
      "outputs": [
        {
          "output_type": "stream",
          "name": "stdout",
          "text": [
            "R0 0.81\n",
            "R1 0.81\n",
            "R2 0.81\n",
            "R3 0.81\n",
            "R4 0.81\n",
            "R5 0.81\n",
            "R6 0.81\n",
            "R7 0.91\n",
            "R8 0.81\n",
            "R9 0.81\n",
            "Average reward: 0.8214035053771915\n"
          ]
        }
      ],
      "source": [
        "# new rewards\n",
        "recalculate_rewards()\n",
        "print(f\"Average reward: {calculate_avg_reward()}\")"
      ]
    },
    {
      "cell_type": "code",
      "execution_count": 120,
      "metadata": {
        "colab": {
          "base_uri": "https://localhost:8080/"
        },
        "id": "PcKi8wCJB75y",
        "outputId": "3fd11264-3940-4999-a217-5f46413242f1"
      },
      "outputs": [
        {
          "output_type": "stream",
          "name": "stdout",
          "text": [
            "max_attr_.delta: 0.91\n",
            "Most successful robot: R7 0.78 0.21 0.91\n",
            "R0: micro\n"
          ]
        },
        {
          "output_type": "stream",
          "name": "stderr",
          "text": [
            "/tmp/ipython-input-3027027379.py:45: DeprecationWarning: ``qiskit.circuit.quantumcircuit.QuantumCircuit.mcx()``'s argument ``mode`` is deprecated as of Qiskit 2.1. It will be removed no earlier than 3 months after the release date. Instead, add a generic MCXGate to the circuit and specify the synthesis method via the ``hls_config`` in the transpilation. Alternatively, specific decompositions are available at https://qisk.it/mcx.\n",
            "  diff.mcx(list(range(nqubits - 1)), nqubits - 1, mode='noancilla')\n"
          ]
        },
        {
          "output_type": "stream",
          "name": "stdout",
          "text": [
            "R0 evaluated path: 0\n",
            "R1: micro\n",
            "R1 evaluated path: 0\n",
            "R2: micro\n",
            "R2 evaluated path: 0\n",
            "R3: micro\n",
            "R3 evaluated path: 0\n",
            "R4: micro\n",
            "R4 evaluated path: 0\n",
            "R5: micro\n",
            "R5 evaluated path: 0\n",
            "R6: micro\n",
            "R6 evaluated path: 0\n",
            "R8: micro\n",
            "R8 evaluated path: 0\n",
            "R9: micro\n",
            "R9 evaluated path: 0\n"
          ]
        }
      ],
      "source": [
        "# parse the most successful robot\n",
        "max_attr_ = max(Robotx._registry, key=attrgetter('delta'))\n",
        "print(f\"max_attr_.delta: {max_attr_.delta:.2f}\")\n",
        "\n",
        "for i in Robotx._registry:\n",
        "    if (i.delta == max_attr_.delta):\n",
        "        print(f\"Most successful robot: {i.name} {i.betax:.2f} {i.betay:.2f} {i.delta:.2f}\") # and then it enters the gate\n",
        "\n",
        "for j in Robotx._registry:\n",
        "    # to get other robots following it:\n",
        "    if (j != max_attr_):\n",
        "        compute_path_to_position(j, [max_attr_.alphax + np.random.uniform(0,0.01), max_attr_.alphay + np.random.uniform(0,0.01)])"
      ]
    },
    {
      "cell_type": "code",
      "execution_count": 121,
      "metadata": {
        "colab": {
          "base_uri": "https://localhost:8080/"
        },
        "id": "mFfjVIbjB75y",
        "outputId": "ef8762b2-3a4d-4ec6-eda9-d40b6032234f"
      },
      "outputs": [
        {
          "output_type": "stream",
          "name": "stdout",
          "text": [
            "R0 0.92\n",
            "R1 0.92\n",
            "R2 0.91\n",
            "R3 0.91\n",
            "R4 0.92\n",
            "R5 0.92\n",
            "R6 0.92\n",
            "R7 0.91\n",
            "R8 0.93\n",
            "R9 0.92\n",
            "Average reward: 0.9177712307564662\n"
          ]
        }
      ],
      "source": [
        "recalculate_rewards()\n",
        "print(f\"Average reward: {calculate_avg_reward()}\")"
      ]
    },
    {
      "cell_type": "code",
      "execution_count": 122,
      "metadata": {
        "colab": {
          "base_uri": "https://localhost:8080/",
          "height": 452
        },
        "id": "Xkj43UN-B75y",
        "outputId": "8b3f7bfc-b5b2-4e03-d20e-449c564fec3b"
      },
      "outputs": [
        {
          "output_type": "display_data",
          "data": {
            "text/plain": [
              "<Figure size 640x480 with 1 Axes>"
            ],
            "image/png": "[encoded data removed]"
          },
          "metadata": {}
        }
      ],
      "source": [
        "plot_scatterplot(\"Final configuration\")"
      ]
    },
    {
      "cell_type": "code",
      "execution_count": 123,
      "metadata": {
        "id": "ZkYfvQDgB75y"
      },
      "outputs": [],
      "source": [
        "for i in Robotx._registry:\n",
        "    if (i.delta < 0.8):\n",
        "\n",
        "        new_alphas = informed_alpha_reshuffling()\n",
        "\n",
        "        # if new position ends up in an obstacle cell, recompute the alphas\n",
        "        while is_position_on_obstacle(new_alphas):\n",
        "                new_alphas = informed_alpha_reshuffling()\n",
        "\n",
        "        compute_path_to_position(i, new_alphas)"
      ]
    },
    {
      "cell_type": "code",
      "execution_count": 124,
      "metadata": {
        "colab": {
          "base_uri": "https://localhost:8080/"
        },
        "id": "OA1qHs7rB75z",
        "outputId": "9bc9baa4-e930-4322-f744-1adad9e8d26f"
      },
      "outputs": [
        {
          "output_type": "stream",
          "name": "stdout",
          "text": [
            "R0 0.92\n",
            "R1 0.92\n",
            "R2 0.91\n",
            "R3 0.91\n",
            "R4 0.92\n",
            "R5 0.92\n",
            "R6 0.92\n",
            "R7 0.91\n",
            "R8 0.93\n",
            "R9 0.92\n"
          ]
        }
      ],
      "source": [
        "recalculate_rewards()"
      ]
    },
    {
      "cell_type": "code",
      "execution_count": 125,
      "metadata": {
        "colab": {
          "base_uri": "https://localhost:8080/",
          "height": 452
        },
        "id": "qQQA_GrKB75z",
        "outputId": "2545e9d4-15c4-4431-9c79-ac83bc53e07e"
      },
      "outputs": [
        {
          "output_type": "display_data",
          "data": {
            "text/plain": [
              "<Figure size 640x480 with 1 Axes>"
            ],
            "image/png": "[encoded data removed]"
          },
          "metadata": {}
        }
      ],
      "source": [
        "plot_scatterplot(\"Second reshuffle\")"
      ]
    },
    {
      "cell_type": "code",
      "execution_count": 126,
      "metadata": {
        "colab": {
          "base_uri": "https://localhost:8080/"
        },
        "id": "yzV9HXTHB75z",
        "outputId": "85833537-bbaa-4488-b9d0-719d0265a9fe"
      },
      "outputs": [
        {
          "output_type": "stream",
          "name": "stdout",
          "text": [
            "max_attr_.delta: 0.93\n",
            "Most successful robot: R8 0.78 0.16 0.93\n"
          ]
        }
      ],
      "source": [
        "# parse the most successful robot\n",
        "max_attr_ = max(Robotx._registry, key=attrgetter('delta'))\n",
        "print(f\"max_attr_.delta: {max_attr_.delta:.2f}\")\n",
        "\n",
        "for i in Robotx._registry:\n",
        "    if (i.delta == max_attr_.delta):\n",
        "        print(f\"Most successful robot: {i.name} {i.betax:.2f} {i.betay:.2f} {i.delta:.2f}\") # and then it enters the gate\n",
        "\n",
        "for j in Robotx._registry:\n",
        "    # to get other robots following it:\n",
        "    if (j != max_attr_):\n",
        "        compute_path_to_position(j, [max_attr_.alphax + np.random.uniform(0,0.01), max_attr_.alphay + np.random.uniform(0,0.01)])"
      ]
    },
    {
      "cell_type": "code",
      "execution_count": 127,
      "metadata": {
        "colab": {
          "base_uri": "https://localhost:8080/"
        },
        "id": "arBbAU4QB75z",
        "outputId": "29abb07e-0929-430b-c9cc-2b6c6ab2fdaa"
      },
      "outputs": [
        {
          "output_type": "stream",
          "name": "stdout",
          "text": [
            "R0 0.92\n",
            "R1 0.93\n",
            "R2 0.93\n",
            "R3 0.92\n",
            "R4 0.93\n",
            "R5 0.92\n",
            "R6 0.93\n",
            "R7 0.93\n",
            "R8 0.93\n",
            "R9 0.92\n"
          ]
        }
      ],
      "source": [
        "recalculate_rewards()"
      ]
    },
    {
      "cell_type": "code",
      "execution_count": 128,
      "metadata": {
        "colab": {
          "base_uri": "https://localhost:8080/",
          "height": 452
        },
        "id": "op-zfo0vB75z",
        "outputId": "b958b919-970e-4cfa-a446-51e1d09c3138"
      },
      "outputs": [
        {
          "output_type": "display_data",
          "data": {
            "text/plain": [
              "<Figure size 640x480 with 1 Axes>"
            ],
            "image/png": "[encoded data removed]"
          },
          "metadata": {}
        }
      ],
      "source": [
        "plot_scatterplot(\"Intermediate step\")"
      ]
    },
    {
      "cell_type": "markdown",
      "metadata": {
        "id": "YeotSroCB75z"
      },
      "source": [
        "Here, the quantum swarm algorithm is invoked yet another time."
      ]
    },
    {
      "cell_type": "code",
      "execution_count": 129,
      "metadata": {
        "colab": {
          "base_uri": "https://localhost:8080/"
        },
        "id": "CtQBvJUwB75z",
        "outputId": "1597a1d2-b872-4bed-956c-b869e9732348"
      },
      "outputs": [
        {
          "output_type": "stream",
          "name": "stdout",
          "text": [
            "Closest robot to the target: R1 0.77 0.13 0.93\n",
            "[0.63 0.77]\n",
            "[0.99 0.13]\n",
            "[0.37 0.93]\n",
            "[0.63 0.77]\n",
            "[0.99 0.13]\n",
            "[0.37 0.93]\n"
          ]
        }
      ],
      "source": [
        "# in case of ties on delta score, the max() function outputs the first maximum item it processes\n",
        "closest_robot = max(Robotx._registry, key=attrgetter('delta'))\n",
        "print(f\"Closest robot to the target: {closest_robot.name} {closest_robot.betax:.2f} {closest_robot.betay:.2f} {closest_robot.delta:.2f}\")\n",
        "\n",
        "# and then it enters the gate\n",
        "vector0 = [closest_robot.alphax, closest_robot.betax]\n",
        "vector1 = [closest_robot.alphay, closest_robot.betay]\n",
        "vector3 = [closest_robot.gamma, closest_robot.delta]\n",
        "\n",
        "normalized_v0 = vector0/np.linalg.norm(vector0)\n",
        "normalized_v1 = vector1/np.linalg.norm(vector1)\n",
        "normalized_v3 = vector3/np.linalg.norm(vector3)\n",
        "\n",
        "print_formatted_vector(vector0, vector1, vector3)\n",
        "print_formatted_vector(normalized_v0, normalized_v1, normalized_v3)"
      ]
    },
    {
      "cell_type": "code",
      "execution_count": 130,
      "metadata": {
        "colab": {
          "base_uri": "https://localhost:8080/"
        },
        "id": "KA3q_9BaB75z",
        "outputId": "8807a088-9718-439c-ccf5-0fd01cb8dd3e"
      },
      "outputs": [
        {
          "output_type": "execute_result",
          "data": {
            "text/plain": [
              "<qiskit.circuit.instructionset.InstructionSet at 0x782966d06e90>"
            ]
          },
          "metadata": {},
          "execution_count": 130
        }
      ],
      "source": [
        "# direct initialization with amplitudes vector\n",
        "qc3.initialize(normalized_v0, q[0])\n",
        "qc3.initialize(normalized_v1, q[1])\n",
        "qc3.initialize(normalized_v3, q[2])"
      ]
    },
    {
      "cell_type": "code",
      "execution_count": 131,
      "metadata": {
        "colab": {
          "base_uri": "https://localhost:8080/"
        },
        "id": "SnX0mRubB75z",
        "outputId": "9bde2a60-ccd5-47fa-b485-322a4a34f263"
      },
      "outputs": [
        {
          "output_type": "execute_result",
          "data": {
            "text/plain": [
              "<qiskit.circuit.instructionset.InstructionSet at 0x78296c163520>"
            ]
          },
          "metadata": {},
          "execution_count": 131
        }
      ],
      "source": [
        "# this is the core code, and it is unchanged across time\n",
        "\n",
        "qc3.barrier(q)\n",
        "\n",
        "qc3.ccx(q[0],q[2],q[3])\n",
        "qc3.ccx(q[1],q[2],q[4])\n",
        "\n",
        "qc3.x(q[2])\n",
        "\n",
        "qc3.ch(q[2],q[3])\n",
        "qc3.ch(q[2],q[4])\n",
        "\n",
        "qc3.x(q[2])\n",
        "\n",
        "qc3.barrier(q)"
      ]
    },
    {
      "cell_type": "code",
      "execution_count": 132,
      "metadata": {
        "colab": {
          "base_uri": "https://localhost:8080/"
        },
        "id": "KLY-QpzhB75z",
        "outputId": "f03a92d4-bb51-41b9-c440-38d76eb33730"
      },
      "outputs": [
        {
          "output_type": "execute_result",
          "data": {
            "text/plain": [
              "<qiskit.circuit.instructionset.InstructionSet at 0x78296c20ca60>"
            ]
          },
          "metadata": {},
          "execution_count": 132
        }
      ],
      "source": [
        "# perform measurements and store them in classical bits\n",
        "\n",
        "qc3.measure(q[2],m2[0])\n",
        "qc3.measure(q[3],m3[0])\n",
        "qc3.measure(q[4],m4[0])"
      ]
    },
    {
      "cell_type": "code",
      "execution_count": 133,
      "metadata": {
        "colab": {
          "base_uri": "https://localhost:8080/",
          "height": 504
        },
        "id": "f603dIi4B75z",
        "outputId": "c506c34f-c2bf-443c-e943-33f874039e4e"
      },
      "outputs": [
        {
          "output_type": "stream",
          "name": "stdout",
          "text": [
            "counts:  {'1 0 0': 41, '0 0 1': 376, '1 1 0': 36, '1 0 1': 59, '0 0 0': 36, '0 1 0': 36, '1 1 1': 66, '0 1 1': 374}\n"
          ]
        },
        {
          "output_type": "execute_result",
          "data": {
            "text/plain": [
              "<Figure size 640x480 with 1 Axes>"
            ],
            "image/png": "[encoded data removed]"
          },
          "metadata": {},
          "execution_count": 133
        }
      ],
      "source": [
        "# --- Simulation ---\n",
        "transpiled_qc = transpile(qc3, aer_sim)\n",
        "result = aer_sim.run(transpiled_qc).result()\n",
        "\n",
        "counts = result.get_counts()\n",
        "print(\"counts: \", counts)\n",
        "\n",
        "plot_histogram(result.get_counts())"
      ]
    },
    {
      "cell_type": "code",
      "execution_count": 134,
      "metadata": {
        "colab": {
          "base_uri": "https://localhost:8080/"
        },
        "id": "5EaoXr1NB75z",
        "outputId": "25c7f0cf-85e3-4cb6-d72b-eacbb639d6c6"
      },
      "outputs": [
        {
          "output_type": "stream",
          "name": "stdout",
          "text": [
            "4 most probable states: {'0 0 1': 376, '0 1 1': 374, '1 1 1': 66, '1 0 1': 59}\n",
            "outcome0: 0.14\n",
            "outcome1: 0.50\n"
          ]
        }
      ],
      "source": [
        "# extract the most probable states and then evaluate the outcome\n",
        "most_prob_dict = dict(nlargest(num_most_prob_states, counts.items(), key=itemgetter(1)))\n",
        "print(f\"{num_most_prob_states} most probable states: {most_prob_dict}\")\n",
        "\n",
        "outcome0, outcome1 = eval_outcome(most_prob_dict, 0), eval_outcome(most_prob_dict, 1)\n",
        "\n",
        "print(f\"outcome0: {outcome0:.2f}\\noutcome1: {outcome1:.2f}\")"
      ]
    },
    {
      "cell_type": "code",
      "execution_count": 135,
      "metadata": {
        "colab": {
          "base_uri": "https://localhost:8080/"
        },
        "id": "2fVh46niB75z",
        "outputId": "ac0fe42f-2149-430a-c909-7255ca66f0e2"
      },
      "outputs": [
        {
          "output_type": "stream",
          "name": "stdout",
          "text": [
            "R0 0.77 0.15\n",
            "R0: micro\n"
          ]
        },
        {
          "output_type": "stream",
          "name": "stderr",
          "text": [
            "/tmp/ipython-input-3027027379.py:45: DeprecationWarning: ``qiskit.circuit.quantumcircuit.QuantumCircuit.mcx()``'s argument ``mode`` is deprecated as of Qiskit 2.1. It will be removed no earlier than 3 months after the release date. Instead, add a generic MCXGate to the circuit and specify the synthesis method via the ``hls_config`` in the transpilation. Alternatively, specific decompositions are available at https://qisk.it/mcx.\n",
            "  diff.mcx(list(range(nqubits - 1)), nqubits - 1, mode='noancilla')\n"
          ]
        },
        {
          "output_type": "stream",
          "name": "stdout",
          "text": [
            "R0 evaluated path: 1\n",
            "R1 0.77 0.13\n",
            "R2 0.77 0.14\n",
            "R2: micro\n",
            "R2 evaluated path: 1\n",
            "R3 0.77 0.16\n",
            "R3: micro\n",
            "R3 evaluated path: 1\n",
            "R4 0.77 0.11\n",
            "R4: micro\n",
            "R4 evaluated path: 1\n",
            "R5 0.77 0.09\n",
            "R5: micro\n",
            "R5 evaluated path: 1\n",
            "R6 0.77 0.11\n",
            "R6: micro\n",
            "R6 evaluated path: 1\n",
            "R7 0.77 0.15\n",
            "R7: micro\n",
            "R7 evaluated path: 1\n",
            "R8 0.78 0.16\n",
            "R8: micro\n",
            "R8 evaluated path: 1\n",
            "R9 0.77 0.15\n",
            "R9: micro\n",
            "R9 evaluated path: 1\n"
          ]
        }
      ],
      "source": [
        "for i in Robotx._registry:\n",
        "    print(f\"{i.name} {i.betax:.2f} {i.betay:.2f}\")\n",
        "    if (i.delta != closest_robot.delta or all(i.delta == j.delta for j in Robotx._registry)): # excluding the robot that entered the gate\n",
        "        compute_path_to_position(i, [c_ampl(outcome1), c_ampl(outcome0)]) # update on alphas is done within the function"
      ]
    },
    {
      "cell_type": "code",
      "execution_count": 136,
      "metadata": {
        "colab": {
          "base_uri": "https://localhost:8080/"
        },
        "id": "j2MeNDLzB75z",
        "outputId": "01abfbf8-1ea7-477a-e561-bb0a75f822d2"
      },
      "outputs": [
        {
          "output_type": "stream",
          "name": "stdout",
          "text": [
            "before the gate: R0 0.92\n",
            "before the gate: R1 0.93\n",
            "before the gate: R2 0.93\n",
            "before the gate: R3 0.92\n",
            "before the gate: R4 0.93\n",
            "before the gate: R5 0.92\n",
            "before the gate: R6 0.93\n",
            "before the gate: R7 0.93\n",
            "before the gate: R8 0.93\n",
            "before the gate: R9 0.92\n"
          ]
        }
      ],
      "source": [
        "# former rewards\n",
        "for i in  Robotx._registry:\n",
        "    print(f\"before the gate: {i.name} {i.delta:.2f}\")"
      ]
    },
    {
      "cell_type": "code",
      "execution_count": 137,
      "metadata": {
        "colab": {
          "base_uri": "https://localhost:8080/"
        },
        "id": "DGOK4lpxB750",
        "outputId": "34a6ddf9-736b-48ee-9da5-906058697dae"
      },
      "outputs": [
        {
          "output_type": "stream",
          "name": "stdout",
          "text": [
            "Rewards after the gate: \n",
            "R0 0.74\n",
            "R1 0.93\n",
            "R2 0.74\n",
            "R3 0.74\n",
            "R4 0.74\n",
            "R5 0.74\n",
            "R6 0.74\n",
            "R7 0.74\n",
            "R8 0.74\n",
            "R9 0.74\n"
          ]
        }
      ],
      "source": [
        "# new rewards\n",
        "print(\"Rewards after the gate: \")\n",
        "recalculate_rewards()"
      ]
    },
    {
      "cell_type": "code",
      "execution_count": 138,
      "metadata": {
        "colab": {
          "base_uri": "https://localhost:8080/"
        },
        "id": "FvmpTPIZB750",
        "outputId": "8a11dd61-a8ef-416a-a543-68e4dbb353fe"
      },
      "outputs": [
        {
          "output_type": "stream",
          "name": "stdout",
          "text": [
            "max_attr_.delta: 0.93\n",
            "Most successful robot: R1 0.77 0.13 0.93\n",
            "R0: micro\n"
          ]
        },
        {
          "output_type": "stream",
          "name": "stderr",
          "text": [
            "/tmp/ipython-input-3027027379.py:45: DeprecationWarning: ``qiskit.circuit.quantumcircuit.QuantumCircuit.mcx()``'s argument ``mode`` is deprecated as of Qiskit 2.1. It will be removed no earlier than 3 months after the release date. Instead, add a generic MCXGate to the circuit and specify the synthesis method via the ``hls_config`` in the transpilation. Alternatively, specific decompositions are available at https://qisk.it/mcx.\n",
            "  diff.mcx(list(range(nqubits - 1)), nqubits - 1, mode='noancilla')\n"
          ]
        },
        {
          "output_type": "stream",
          "name": "stdout",
          "text": [
            "R0 evaluated path: 0\n",
            "R2: micro\n",
            "R2 evaluated path: 0\n",
            "R3: micro\n",
            "R3 evaluated path: 0\n",
            "R4: macro-micro\n"
          ]
        },
        {
          "output_type": "stream",
          "name": "stderr",
          "text": [
            "/tmp/ipython-input-2033240824.py:5: RuntimeWarning: invalid value encountered in sqrt\n",
            "  return np.sqrt(1 - ampl**2)\n"
          ]
        },
        {
          "output_type": "stream",
          "name": "stdout",
          "text": [
            "R4 evaluated path (macro): 11\n",
            "R4 evaluated path (micro): 1\n",
            "R5: micro\n"
          ]
        },
        {
          "output_type": "stream",
          "name": "stderr",
          "text": [
            "/tmp/ipython-input-3027027379.py:45: DeprecationWarning: ``qiskit.circuit.quantumcircuit.QuantumCircuit.mcx()``'s argument ``mode`` is deprecated as of Qiskit 2.1. It will be removed no earlier than 3 months after the release date. Instead, add a generic MCXGate to the circuit and specify the synthesis method via the ``hls_config`` in the transpilation. Alternatively, specific decompositions are available at https://qisk.it/mcx.\n",
            "  diff.mcx(list(range(nqubits - 1)), nqubits - 1, mode='noancilla')\n"
          ]
        },
        {
          "output_type": "stream",
          "name": "stdout",
          "text": [
            "R5 evaluated path: 0\n",
            "R6: micro\n",
            "R6 evaluated path: 0\n",
            "R7: micro\n",
            "R7 evaluated path: 0\n",
            "R8: micro\n",
            "R8 evaluated path: 0\n",
            "R9: micro\n",
            "R9 evaluated path: 0\n"
          ]
        }
      ],
      "source": [
        "# parse the most successful robot\n",
        "max_attr_ = max(Robotx._registry, key=attrgetter('delta'))\n",
        "print(f\"max_attr_.delta: {max_attr_.delta:.2f}\")\n",
        "\n",
        "for i in Robotx._registry:\n",
        "    if (i.delta == max_attr_.delta):\n",
        "        print(f\"Most successful robot: {i.name} {i.betax:.2f} {i.betay:.2f} {i.delta:.2f}\") # and then it enters the gate\n",
        "\n",
        "for j in Robotx._registry:\n",
        "    # to get other robots following it:\n",
        "    if (j != max_attr_):\n",
        "        compute_path_to_position(j, [max_attr_.alphax + np.random.uniform(0,0.01), max_attr_.alphay + np.random.uniform(0,0.01)])"
      ]
    },
    {
      "cell_type": "code",
      "execution_count": 139,
      "metadata": {
        "colab": {
          "base_uri": "https://localhost:8080/"
        },
        "id": "JnC65MvcB750",
        "outputId": "7386a1a6-4eea-4887-eb01-cf79b6d7f0cf"
      },
      "outputs": [
        {
          "output_type": "stream",
          "name": "stdout",
          "text": [
            "R0 0.93\n",
            "R1 0.93\n",
            "R2 0.92\n",
            "R3 0.92\n",
            "R4 nan\n",
            "R5 0.91\n",
            "R6 0.92\n",
            "R7 0.92\n",
            "R8 0.93\n",
            "R9 0.89\n"
          ]
        }
      ],
      "source": [
        "recalculate_rewards()"
      ]
    },
    {
      "cell_type": "code",
      "execution_count": 140,
      "metadata": {
        "colab": {
          "base_uri": "https://localhost:8080/",
          "height": 452
        },
        "id": "jMLdSNkwB750",
        "outputId": "2a79b304-5b0c-4545-9c87-a87f2ca0cb9a"
      },
      "outputs": [
        {
          "output_type": "display_data",
          "data": {
            "text/plain": [
              "<Figure size 640x480 with 1 Axes>"
            ],
            "image/png": "[encoded data removed]"
          },
          "metadata": {}
        }
      ],
      "source": [
        "plot_scatterplot(\"Final after second gate\")"
      ]
    },
    {
      "cell_type": "code",
      "source": [
        "\n"
      ],
      "metadata": {
        "id": "QAmOwWRDDxsM"
      },
      "execution_count": 140,
      "outputs": []
    },
    {
      "cell_type": "code",
      "source": [],
      "metadata": {
        "id": "JtBHE3feloB_"
      },
      "execution_count": 140,
      "outputs": []
    }
  ],
  "metadata": {
    "interpreter": {
      "hash": "9650cb4e16cdd4a8e8e2d128bf38d875813998db22a3c986335f89e0cb4d7bb2"
    },
    "kernelspec": {
      "display_name": "Python 3.8.2 64-bit",
      "language": "python",
      "name": "python3"
    },
    "language_info": {
      "codemirror_mode": {
        "name": "ipython",
        "version": 3
      },
      "file_extension": ".py",
      "mimetype": "text/x-python",
      "name": "python",
      "nbconvert_exporter": "python",
      "pygments_lexer": "ipython3",
      "version": "3.8.2 (tags/v3.8.2:7b3ab59, Feb 25 2020, 23:03:10) [MSC v.1916 64 bit (AMD64)]"
    },
    "colab": {
      "provenance": []
    }
  },
  "nbformat": 4,
  "nbformat_minor": 0
}